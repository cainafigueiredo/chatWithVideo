{
 "cells": [
  {
   "attachments": {},
   "cell_type": "markdown",
   "metadata": {},
   "source": [
    "### **Initial setup**"
   ]
  },
  {
   "cell_type": "code",
   "execution_count": 1,
   "metadata": {},
   "outputs": [
    {
     "data": {
      "text/plain": [
       "True"
      ]
     },
     "execution_count": 1,
     "metadata": {},
     "output_type": "execute_result"
    }
   ],
   "source": [
    "import os\n",
    "\n",
    "import re\n",
    "import json\n",
    "import pandas as pd\n",
    "from googleapiclient.discovery import build\n",
    "\n",
    "from dotenv import load_dotenv\n",
    "load_dotenv(\"../.env\")"
   ]
  },
  {
   "cell_type": "code",
   "execution_count": 2,
   "metadata": {},
   "outputs": [],
   "source": [
    "DATA_PATH = \"../data/experiments\"\n",
    "os.makedirs(DATA_PATH, exist_ok = True)"
   ]
  },
  {
   "cell_type": "code",
   "execution_count": 3,
   "metadata": {},
   "outputs": [],
   "source": [
    "YOUTUBE_API_KEY = os.environ.get(\"YOUTUBE_API_KEY\")\n",
    "youtube = build('youtube', 'v3', developerKey=YOUTUBE_API_KEY)"
   ]
  },
  {
   "attachments": {},
   "cell_type": "markdown",
   "metadata": {},
   "source": [
    "### **Useful functions**"
   ]
  },
  {
   "cell_type": "code",
   "execution_count": 6,
   "metadata": {},
   "outputs": [],
   "source": [
    "def getVideosFromChannel(channelID):\n",
    "  # Get Uploads playlist id\n",
    "  res = youtube.channels().list(id=channelID, part='contentDetails').execute()\n",
    "  playlistID = res['items'][0]['contentDetails']['relatedPlaylists']['uploads']\n",
    "\n",
    "  videos = []\n",
    "  nextPageToken = None\n",
    "\n",
    "  while True:\n",
    "    res = youtube.playlistItems().list(playlistId=playlistID, part='snippet', maxResults=50, pageToken=nextPageToken).execute()\n",
    "    videos += res['items']\n",
    "    nextPageToken = res.get('nextPageToken')\n",
    "\n",
    "    if not nextPageToken:\n",
    "      break\n",
    "\n",
    "  return videos"
   ]
  },
  {
   "cell_type": "code",
   "execution_count": 7,
   "metadata": {},
   "outputs": [],
   "source": [
    "def extractDescriptionFromVideo(videoInfo):\n",
    "  description = videoInfo['snippet']['description']\n",
    "  return description"
   ]
  },
  {
   "cell_type": "code",
   "execution_count": 87,
   "metadata": {},
   "outputs": [],
   "source": [
    "def extractIDFromVideo(videoInfo):\n",
    "    videoID = videoInfo[\"snippet\"][\"resourceId\"][\"videoId\"]\n",
    "    return videoID"
   ]
  },
  {
   "cell_type": "code",
   "execution_count": 176,
   "metadata": {},
   "outputs": [],
   "source": [
    "def extractChaptersFromVideoDescription(videoDescription):\n",
    "    hasTimestampRegex = r\".*((?:\\d+:)+\\d+).*\"\n",
    "\n",
    "    descriptionLines = videoDescription.split(\"\\n\")\n",
    "    chaptersLines = [line for line in descriptionLines if re.match(hasTimestampRegex, line)]\n",
    "    \n",
    "    if len(chaptersLines) == 0:\n",
    "        raise Exception(\"No chapters were detected.\")\n",
    "\n",
    "    pattern1 = r\"((?:\\d+:)+\\d+)[\\W\\t\\s-]+(.*)\"\n",
    "    pattern2 = r\"(.*)[\\W\\t\\s-]+((?:\\d+:)+\\d+)\"\n",
    "\n",
    "    chapters = []\n",
    "\n",
    "    for chapterLine in chaptersLines:\n",
    "        if re.match(pattern1, chapterLine):\n",
    "            chapters.append(re.findall(pattern1, chapterLine)[0])\n",
    "        \n",
    "        elif re.match(pattern2, chapterLine):\n",
    "            chapters.append(re.findall(pattern2, chapterLine)[0][::-1])\n",
    "\n",
    "        else:\n",
    "            raise Exception(f\"It was not possible to parse the following chapter: '{chapterLine}'.\")\n",
    "        \n",
    "    return chapters"
   ]
  },
  {
   "cell_type": "code",
   "execution_count": 177,
   "metadata": {},
   "outputs": [],
   "source": [
    "def extractChaptersFromVideos(videos):\n",
    "    data = []\n",
    "    columns = [\"videoID\", \"description\", \"chapterOrder\", \"startTimestamp\", \"chapterTitle\"]\n",
    "    for video in videos:\n",
    "        videoID = extractIDFromVideo(video)\n",
    "        description = extractDescriptionFromVideo(video)\n",
    "        try:\n",
    "            chapters = extractChaptersFromVideoDescription(description)\n",
    "        except Exception as e:\n",
    "            print(videoID, e.__str__())\n",
    "        chapters = [[videoID, description, i, chapter[0], chapter[1]] for i, chapter in enumerate(chapters)]\n",
    "        data += chapters\n",
    "    return pd.DataFrame(data = data, columns = columns)"
   ]
  },
  {
   "attachments": {},
   "cell_type": "markdown",
   "metadata": {},
   "source": [
    "### **FreeCodeCamp**"
   ]
  },
  {
   "cell_type": "code",
   "execution_count": 178,
   "metadata": {},
   "outputs": [],
   "source": [
    "# Uncomment the following lines to download the data\n",
    "# FREE_CODE_CAMP_CHANNEL_ID = \"UC8butISFwT-Wl7EV0hUK0BQ\"\n",
    "# videos = getVideosFromChannel(FREE_CODE_CAMP_CHANNEL_ID)\n",
    "# with open(f\"{DATA_PATH}/freeCodeCampVideos.json\", \"w\") as f:\n",
    "#   f.write(json.dumps(videos))"
   ]
  },
  {
   "cell_type": "code",
   "execution_count": 179,
   "metadata": {},
   "outputs": [],
   "source": [
    "videos = json.load(open(f\"{DATA_PATH}/freeCodeCampVideos.json\"))"
   ]
  },
  {
   "cell_type": "code",
   "execution_count": null,
   "metadata": {},
   "outputs": [],
   "source": []
  }
 ],
 "metadata": {
  "kernelspec": {
   "display_name": ".venv",
   "language": "python",
   "name": "python3"
  },
  "language_info": {
   "codemirror_mode": {
    "name": "ipython",
    "version": 3
   },
   "file_extension": ".py",
   "mimetype": "text/x-python",
   "name": "python",
   "nbconvert_exporter": "python",
   "pygments_lexer": "ipython3",
   "version": "3.8.10"
  },
  "orig_nbformat": 4
 },
 "nbformat": 4,
 "nbformat_minor": 2
}
